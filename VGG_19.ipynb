{
  "nbformat": 4,
  "nbformat_minor": 0,
  "metadata": {
    "colab": {
      "name": "VGG-19.ipynb",
      "provenance": []
    },
    "kernelspec": {
      "name": "python3",
      "display_name": "Python 3"
    },
    "language_info": {
      "name": "python"
    }
  },
  "cells": [
    {
      "cell_type": "code",
      "metadata": {
        "colab": {
          "base_uri": "https://localhost:8080/"
        },
        "id": "QLKKlRZZpNom",
        "outputId": "e9c187c6-7cb6-472b-c641-d39dcf843592"
      },
      "source": [
        "# Connecting to google drive\n",
        "!apt-get install -y -qq software-properties-common python-software-properties module-init-tools\n",
        "!add-apt-repository -y ppa:alessandro-strada/ppa 2>&1 > /dev/null\n",
        "!apt-get update -qq 2>&1 > /dev/null\n",
        "!apt-get -y install -qq google-drive-ocamlfuse fuse\n",
        "from google.colab import auth\n",
        "auth.authenticate_user()\n",
        "from oauth2client.client import GoogleCredentials\n",
        "creds = GoogleCredentials.get_application_default()\n",
        "import getpass\n",
        "!google-drive-ocamlfuse -headless -id={creds.client_id} -secret={creds.client_secret} < /dev/null 2>&1 | grep URL\n",
        "vcode = getpass.getpass()\n",
        "!echo {vcode} | google-drive-ocamlfuse -headless -id={creds.client_id} -secret={creds.client_secret}\n",
        "\n",
        "!mkdir -p drive\n",
        "!google-drive-ocamlfuse drive\n",
        "\n",
        "!ls drive"
      ],
      "execution_count": 1,
      "outputs": [
        {
          "output_type": "stream",
          "text": [
            "E: Package 'python-software-properties' has no installation candidate\n",
            "Selecting previously unselected package google-drive-ocamlfuse.\n",
            "(Reading database ... 160690 files and directories currently installed.)\n",
            "Preparing to unpack .../google-drive-ocamlfuse_0.7.26-0ubuntu1~ubuntu18.04.1_amd64.deb ...\n",
            "Unpacking google-drive-ocamlfuse (0.7.26-0ubuntu1~ubuntu18.04.1) ...\n",
            "Setting up google-drive-ocamlfuse (0.7.26-0ubuntu1~ubuntu18.04.1) ...\n",
            "Processing triggers for man-db (2.8.3-2ubuntu0.1) ...\n",
            "Please, open the following URL in a web browser: https://accounts.google.com/o/oauth2/auth?client_id=32555940559.apps.googleusercontent.com&redirect_uri=urn%3Aietf%3Awg%3Aoauth%3A2.0%3Aoob&scope=https%3A%2F%2Fwww.googleapis.com%2Fauth%2Fdrive&response_type=code&access_type=offline&approval_prompt=force\n",
            "··········\n",
            "Please, open the following URL in a web browser: https://accounts.google.com/o/oauth2/auth?client_id=32555940559.apps.googleusercontent.com&redirect_uri=urn%3Aietf%3Awg%3Aoauth%3A2.0%3Aoob&scope=https%3A%2F%2Fwww.googleapis.com%2Fauth%2Fdrive&response_type=code&access_type=offline&approval_prompt=force\n",
            "Please enter the verification code: Access token retrieved correctly.\n",
            " A2_SodiqJaffarus.ipynb\n",
            " A2_SodiqJaffarus_PartD.ipynb\n",
            " A3\n",
            "'Backup Presentation.desktop'\n",
            "'Bishop - Pattern Recognition And Machine Learning - Springer  2006.pdf'\n",
            "'BPJS Kesehatan'\n",
            "'Colab Notebooks'\n",
            " covid_19_sent.csv\n",
            "'Getting started'\n",
            "'Group 7_Model.R'\n",
            "'Image Splicing Detection_CNN.docx'\n",
            " Koami\n",
            " MA5701-Grpup2-FP.desktop\n",
            "'Machine Learning FINAL Project'\n",
            " ML\n",
            " MLCoba\n",
            " MLCoba2\n",
            " ModelBPJS-New.ipynb\n",
            " OnlineNewsPopularity.csv\n",
            "'PM Final Report'\n",
            "'reducedcourseloadrquest-jsodiq (010eb702).pdf'\n",
            " reducedcourseloadrquest-jsodiq.pdf\n"
          ],
          "name": "stdout"
        }
      ]
    },
    {
      "cell_type": "code",
      "metadata": {
        "id": "p8dckQnSpVAm"
      },
      "source": [
        "%matplotlib inline\n",
        "import math\n",
        "import numpy as np\n",
        "import os\n",
        "import tensorflow as tf\n",
        "from tensorflow import keras\n",
        "import matplotlib.pyplot as plt\n",
        "import keras\n",
        "from keras.applications.vgg19 import VGG19\n",
        "from keras.preprocessing.image import load_img\n",
        "from keras.callbacks import ModelCheckpoint\n",
        "import itertools\n",
        "from keras.models import Sequential\n",
        "from keras.optimizers import Adam\n",
        "from keras.preprocessing.image import ImageDataGenerator\n",
        "import tensorflow as tf\n",
        "from keras.layers import Dense, Flatten, Dropout\n",
        "from tensorflow.python.client import device_lib\n",
        "from sklearn.metrics import confusion_matrix\n",
        "from keras.models import Model"
      ],
      "execution_count": 2,
      "outputs": []
    },
    {
      "cell_type": "code",
      "metadata": {
        "colab": {
          "base_uri": "https://localhost:8080/"
        },
        "id": "sTlwBEbErrbK",
        "outputId": "a83f52a0-e628-463d-8d61-e1c96b419ec8"
      },
      "source": [
        "model = VGG19()"
      ],
      "execution_count": 3,
      "outputs": [
        {
          "output_type": "stream",
          "text": [
            "Downloading data from https://storage.googleapis.com/tensorflow/keras-applications/vgg19/vgg19_weights_tf_dim_ordering_tf_kernels.h5\n",
            "574717952/574710816 [==============================] - 4s 0us/step\n"
          ],
          "name": "stdout"
        }
      ]
    },
    {
      "cell_type": "code",
      "metadata": {
        "id": "CLbSwGffpqR_"
      },
      "source": [
        "model_base = Sequential()\n",
        "\n",
        "for layer in model.layers:\n",
        "  model_base.add(layer)"
      ],
      "execution_count": 4,
      "outputs": []
    },
    {
      "cell_type": "code",
      "metadata": {
        "id": "wilHltYdpq73"
      },
      "source": [
        "for layer in model_base.layers:\n",
        "  layer.trainable = False"
      ],
      "execution_count": 5,
      "outputs": []
    },
    {
      "cell_type": "code",
      "metadata": {
        "id": "YGqVmextpt0I"
      },
      "source": [
        "model_base.add(Dense(2, activation='softmax'))"
      ],
      "execution_count": 6,
      "outputs": []
    },
    {
      "cell_type": "code",
      "metadata": {
        "id": "wsAF4D0wpwMB"
      },
      "source": [
        "#Compiling Model \n",
        "model_base.compile(Adam(), loss = 'binary_crossentropy', metrics = ['accuracy'])"
      ],
      "execution_count": 7,
      "outputs": []
    },
    {
      "cell_type": "code",
      "metadata": {
        "id": "GueWX6zgpzPu"
      },
      "source": [
        "train_path = 'drive/ML/Train'\n",
        "test_path = 'drive/ML/Test'"
      ],
      "execution_count": 8,
      "outputs": []
    },
    {
      "cell_type": "code",
      "metadata": {
        "colab": {
          "base_uri": "https://localhost:8080/"
        },
        "id": "nX9EFjhbqbl0",
        "outputId": "16c0be2f-a27b-4fe3-8ba5-60f5a8f8724f"
      },
      "source": [
        "train_batches = ImageDataGenerator().flow_from_directory(train_path, target_size=(224,224), classes=['original', 'spliced'], batch_size=10)\n",
        "test_batches =  ImageDataGenerator().flow_from_directory(test_path, target_size=(224,224), classes=['original', 'spliced'], batch_size=4)"
      ],
      "execution_count": 9,
      "outputs": [
        {
          "output_type": "stream",
          "text": [
            "Found 1624 images belonging to 2 classes.\n",
            "Found 221 images belonging to 2 classes.\n"
          ],
          "name": "stdout"
        }
      ]
    },
    {
      "cell_type": "code",
      "metadata": {
        "id": "hqyHzsTzqwUU"
      },
      "source": [
        "SAVE_PATH = 'drive/ML/model/'\n",
        "callbacks = [keras.callbacks.ModelCheckpoint(filepath=SAVE_PATH + 'model_.h5', save_best_only=True, monitor='val_loss', verbose=1)]"
      ],
      "execution_count": 10,
      "outputs": []
    },
    {
      "cell_type": "code",
      "metadata": {
        "colab": {
          "base_uri": "https://localhost:8080/"
        },
        "id": "BTjc2U1_q8n6",
        "outputId": "abcec851-1427-480c-ba86-c570d243a752"
      },
      "source": [
        "epochs = 50\n",
        "history = model_base.fit_generator(train_batches,\n",
        "                    epochs=epochs,\n",
        "                    steps_per_epoch= len(train_batches),\n",
        "                    callbacks = callbacks,\n",
        "                    validation_data= test_batches,\n",
        "                    validation_steps = len(test_batches)\n",
        "                    )\n"
      ],
      "execution_count": null,
      "outputs": [
        {
          "output_type": "stream",
          "text": [
            "/usr/local/lib/python3.7/dist-packages/tensorflow/python/keras/engine/training.py:1844: UserWarning: `Model.fit_generator` is deprecated and will be removed in a future version. Please use `Model.fit`, which supports generators.\n",
            "  warnings.warn('`Model.fit_generator` is deprecated and '\n"
          ],
          "name": "stderr"
        },
        {
          "output_type": "stream",
          "text": [
            "Epoch 1/50\n",
            "163/163 [==============================] - 1185s 7s/step - loss: 0.6736 - accuracy: 0.7161 - val_loss: 0.6761 - val_accuracy: 0.6833\n",
            "\n",
            "Epoch 00001: val_loss improved from inf to 0.67615, saving model to drive/ML/model/model_.h5\n",
            "Epoch 2/50\n",
            "163/163 [==============================] - 1256s 8s/step - loss: 0.6695 - accuracy: 0.7161 - val_loss: 0.6730 - val_accuracy: 0.6833\n",
            "\n",
            "Epoch 00002: val_loss improved from 0.67615 to 0.67303, saving model to drive/ML/model/model_.h5\n",
            "Epoch 3/50\n",
            "163/163 [==============================] - 1257s 8s/step - loss: 0.6655 - accuracy: 0.7180 - val_loss: 0.6700 - val_accuracy: 0.6878\n",
            "\n",
            "Epoch 00003: val_loss improved from 0.67303 to 0.67002, saving model to drive/ML/model/model_.h5\n",
            "Epoch 4/50\n",
            "163/163 [==============================] - 1259s 8s/step - loss: 0.6616 - accuracy: 0.7284 - val_loss: 0.6671 - val_accuracy: 0.6878\n",
            "\n",
            "Epoch 00004: val_loss improved from 0.67002 to 0.66706, saving model to drive/ML/model/model_.h5\n",
            "Epoch 5/50\n",
            "163/163 [==============================] - 1260s 8s/step - loss: 0.6578 - accuracy: 0.7284 - val_loss: 0.6641 - val_accuracy: 0.6878\n",
            "\n",
            "Epoch 00005: val_loss improved from 0.66706 to 0.66411, saving model to drive/ML/model/model_.h5\n",
            "Epoch 6/50\n",
            "163/163 [==============================] - 1258s 8s/step - loss: 0.6541 - accuracy: 0.7315 - val_loss: 0.6614 - val_accuracy: 0.6878\n",
            "\n",
            "Epoch 00006: val_loss improved from 0.66411 to 0.66141, saving model to drive/ML/model/model_.h5\n",
            "Epoch 7/50\n",
            "163/163 [==============================] - 1252s 8s/step - loss: 0.6505 - accuracy: 0.7334 - val_loss: 0.6587 - val_accuracy: 0.6878\n",
            "\n",
            "Epoch 00007: val_loss improved from 0.66141 to 0.65874, saving model to drive/ML/model/model_.h5\n",
            "Epoch 8/50\n",
            "163/163 [==============================] - 1256s 8s/step - loss: 0.6470 - accuracy: 0.7334 - val_loss: 0.6561 - val_accuracy: 0.6878\n",
            "\n",
            "Epoch 00008: val_loss improved from 0.65874 to 0.65610, saving model to drive/ML/model/model_.h5\n",
            "Epoch 9/50\n",
            "163/163 [==============================] - 1253s 8s/step - loss: 0.6437 - accuracy: 0.7352 - val_loss: 0.6536 - val_accuracy: 0.6878\n",
            "\n",
            "Epoch 00009: val_loss improved from 0.65610 to 0.65364, saving model to drive/ML/model/model_.h5\n",
            "Epoch 10/50\n",
            "163/163 [==============================] - 1256s 8s/step - loss: 0.6403 - accuracy: 0.7352 - val_loss: 0.6510 - val_accuracy: 0.6878\n",
            "\n",
            "Epoch 00010: val_loss improved from 0.65364 to 0.65102, saving model to drive/ML/model/model_.h5\n",
            "Epoch 11/50\n",
            "163/163 [==============================] - 1261s 8s/step - loss: 0.6371 - accuracy: 0.7408 - val_loss: 0.6488 - val_accuracy: 0.6878\n",
            "\n",
            "Epoch 00011: val_loss improved from 0.65102 to 0.64882, saving model to drive/ML/model/model_.h5\n",
            "Epoch 12/50\n",
            "163/163 [==============================] - 1254s 8s/step - loss: 0.6339 - accuracy: 0.7358 - val_loss: 0.6465 - val_accuracy: 0.6833\n",
            "\n",
            "Epoch 00012: val_loss improved from 0.64882 to 0.64650, saving model to drive/ML/model/model_.h5\n",
            "Epoch 13/50\n",
            "163/163 [==============================] - 1258s 8s/step - loss: 0.6308 - accuracy: 0.7389 - val_loss: 0.6443 - val_accuracy: 0.6878\n",
            "\n",
            "Epoch 00013: val_loss improved from 0.64650 to 0.64429, saving model to drive/ML/model/model_.h5\n",
            "Epoch 14/50\n",
            "163/163 [==============================] - 1264s 8s/step - loss: 0.6278 - accuracy: 0.7432 - val_loss: 0.6420 - val_accuracy: 0.6833\n",
            "\n",
            "Epoch 00014: val_loss improved from 0.64429 to 0.64198, saving model to drive/ML/model/model_.h5\n",
            "Epoch 15/50\n",
            "163/163 [==============================] - 1254s 8s/step - loss: 0.6249 - accuracy: 0.7438 - val_loss: 0.6398 - val_accuracy: 0.6833\n",
            "\n",
            "Epoch 00015: val_loss improved from 0.64198 to 0.63985, saving model to drive/ML/model/model_.h5\n",
            "Epoch 16/50\n",
            " 18/163 [==>...........................] - ETA: 16:14 - loss: 0.6222 - accuracy: 0.7611"
          ],
          "name": "stdout"
        }
      ]
    },
    {
      "cell_type": "code",
      "metadata": {
        "colab": {
          "base_uri": "https://localhost:8080/",
          "height": 990
        },
        "id": "EWpGTwd7rNUp",
        "outputId": "cfa75879-e7ba-4570-d8fe-00a6ccc6de73"
      },
      "source": [
        "model = keras.models.load_model('drive/ML/model/model_.h5') #load the model from file\n",
        "initial_epoch=15\n",
        "epochs=50\n",
        "\n",
        "history = model.fit_generator(train_batches,\n",
        "                    epochs=epochs,\n",
        "                    steps_per_epoch= len(train_batches),\n",
        "                    initial_epoch = initial_epoch,\n",
        "                    callbacks = callbacks,\n",
        "                    validation_data= test_batches,\n",
        "                    validation_steps = len(test_batches)\n",
        "                    )"
      ],
      "execution_count": 14,
      "outputs": [
        {
          "output_type": "stream",
          "text": [
            "/usr/local/lib/python3.7/dist-packages/tensorflow/python/keras/engine/training.py:1844: UserWarning: `Model.fit_generator` is deprecated and will be removed in a future version. Please use `Model.fit`, which supports generators.\n",
            "  warnings.warn('`Model.fit_generator` is deprecated and '\n"
          ],
          "name": "stderr"
        },
        {
          "output_type": "stream",
          "text": [
            "Epoch 16/50\n",
            "163/163 [==============================] - 1306s 8s/step - loss: 0.6219 - accuracy: 0.7463 - val_loss: 0.6379 - val_accuracy: 0.6878\n",
            "\n",
            "Epoch 00016: val_loss improved from inf to 0.63787, saving model to drive/ML/model/model_.h5\n",
            "Epoch 17/50\n",
            "163/163 [==============================] - 1306s 8s/step - loss: 0.6192 - accuracy: 0.7457 - val_loss: 0.6359 - val_accuracy: 0.6878\n",
            "\n",
            "Epoch 00017: val_loss improved from 0.63787 to 0.63591, saving model to drive/ML/model/model_.h5\n",
            "Epoch 18/50\n",
            "163/163 [==============================] - 1303s 8s/step - loss: 0.6164 - accuracy: 0.7457 - val_loss: 0.6341 - val_accuracy: 0.6833\n",
            "\n",
            "Epoch 00018: val_loss improved from 0.63591 to 0.63410, saving model to drive/ML/model/model_.h5\n",
            "Epoch 19/50\n",
            "163/163 [==============================] - 1305s 8s/step - loss: 0.6137 - accuracy: 0.7457 - val_loss: 0.6321 - val_accuracy: 0.6878\n",
            "\n",
            "Epoch 00019: val_loss improved from 0.63410 to 0.63212, saving model to drive/ML/model/model_.h5\n",
            "Epoch 20/50\n",
            "163/163 [==============================] - 1291s 8s/step - loss: 0.6111 - accuracy: 0.7475 - val_loss: 0.6304 - val_accuracy: 0.6878\n",
            "\n",
            "Epoch 00020: val_loss improved from 0.63212 to 0.63038, saving model to drive/ML/model/model_.h5\n",
            "Epoch 21/50\n",
            "163/163 [==============================] - 1294s 8s/step - loss: 0.6085 - accuracy: 0.7494 - val_loss: 0.6286 - val_accuracy: 0.6878\n",
            "\n",
            "Epoch 00021: val_loss improved from 0.63038 to 0.62860, saving model to drive/ML/model/model_.h5\n",
            "Epoch 22/50\n",
            "163/163 [==============================] - 1291s 8s/step - loss: 0.6060 - accuracy: 0.7469 - val_loss: 0.6270 - val_accuracy: 0.6878\n",
            "\n",
            "Epoch 00022: val_loss improved from 0.62860 to 0.62695, saving model to drive/ML/model/model_.h5\n",
            "Epoch 23/50\n",
            "163/163 [==============================] - 1295s 8s/step - loss: 0.6035 - accuracy: 0.7475 - val_loss: 0.6253 - val_accuracy: 0.6833\n",
            "\n",
            "Epoch 00023: val_loss improved from 0.62695 to 0.62527, saving model to drive/ML/model/model_.h5\n",
            "Epoch 24/50\n",
            " 13/163 [=>............................] - ETA: 17:19 - loss: 0.6043 - accuracy: 0.7385"
          ],
          "name": "stdout"
        },
        {
          "output_type": "error",
          "ename": "KeyboardInterrupt",
          "evalue": "ignored",
          "traceback": [
            "\u001b[0;31m---------------------------------------------------------------------------\u001b[0m",
            "\u001b[0;31mKeyboardInterrupt\u001b[0m                         Traceback (most recent call last)",
            "\u001b[0;32m<ipython-input-14-eac6fe1880ac>\u001b[0m in \u001b[0;36m<module>\u001b[0;34m()\u001b[0m\n\u001b[1;32m      9\u001b[0m                     \u001b[0mcallbacks\u001b[0m \u001b[0;34m=\u001b[0m \u001b[0mcallbacks\u001b[0m\u001b[0;34m,\u001b[0m\u001b[0;34m\u001b[0m\u001b[0;34m\u001b[0m\u001b[0m\n\u001b[1;32m     10\u001b[0m                     \u001b[0mvalidation_data\u001b[0m\u001b[0;34m=\u001b[0m \u001b[0mtest_batches\u001b[0m\u001b[0;34m,\u001b[0m\u001b[0;34m\u001b[0m\u001b[0;34m\u001b[0m\u001b[0m\n\u001b[0;32m---> 11\u001b[0;31m                     \u001b[0mvalidation_steps\u001b[0m \u001b[0;34m=\u001b[0m \u001b[0mlen\u001b[0m\u001b[0;34m(\u001b[0m\u001b[0mtest_batches\u001b[0m\u001b[0;34m)\u001b[0m\u001b[0;34m\u001b[0m\u001b[0;34m\u001b[0m\u001b[0m\n\u001b[0m\u001b[1;32m     12\u001b[0m                     )\n",
            "\u001b[0;32m/usr/local/lib/python3.7/dist-packages/tensorflow/python/keras/engine/training.py\u001b[0m in \u001b[0;36mfit_generator\u001b[0;34m(self, generator, steps_per_epoch, epochs, verbose, callbacks, validation_data, validation_steps, validation_freq, class_weight, max_queue_size, workers, use_multiprocessing, shuffle, initial_epoch)\u001b[0m\n\u001b[1;32m   1859\u001b[0m         \u001b[0muse_multiprocessing\u001b[0m\u001b[0;34m=\u001b[0m\u001b[0muse_multiprocessing\u001b[0m\u001b[0;34m,\u001b[0m\u001b[0;34m\u001b[0m\u001b[0;34m\u001b[0m\u001b[0m\n\u001b[1;32m   1860\u001b[0m         \u001b[0mshuffle\u001b[0m\u001b[0;34m=\u001b[0m\u001b[0mshuffle\u001b[0m\u001b[0;34m,\u001b[0m\u001b[0;34m\u001b[0m\u001b[0;34m\u001b[0m\u001b[0m\n\u001b[0;32m-> 1861\u001b[0;31m         initial_epoch=initial_epoch)\n\u001b[0m\u001b[1;32m   1862\u001b[0m \u001b[0;34m\u001b[0m\u001b[0m\n\u001b[1;32m   1863\u001b[0m   def evaluate_generator(self,\n",
            "\u001b[0;32m/usr/local/lib/python3.7/dist-packages/tensorflow/python/keras/engine/training.py\u001b[0m in \u001b[0;36mfit\u001b[0;34m(self, x, y, batch_size, epochs, verbose, callbacks, validation_split, validation_data, shuffle, class_weight, sample_weight, initial_epoch, steps_per_epoch, validation_steps, validation_batch_size, validation_freq, max_queue_size, workers, use_multiprocessing)\u001b[0m\n\u001b[1;32m   1098\u001b[0m                 _r=1):\n\u001b[1;32m   1099\u001b[0m               \u001b[0mcallbacks\u001b[0m\u001b[0;34m.\u001b[0m\u001b[0mon_train_batch_begin\u001b[0m\u001b[0;34m(\u001b[0m\u001b[0mstep\u001b[0m\u001b[0;34m)\u001b[0m\u001b[0;34m\u001b[0m\u001b[0;34m\u001b[0m\u001b[0m\n\u001b[0;32m-> 1100\u001b[0;31m               \u001b[0mtmp_logs\u001b[0m \u001b[0;34m=\u001b[0m \u001b[0mself\u001b[0m\u001b[0;34m.\u001b[0m\u001b[0mtrain_function\u001b[0m\u001b[0;34m(\u001b[0m\u001b[0miterator\u001b[0m\u001b[0;34m)\u001b[0m\u001b[0;34m\u001b[0m\u001b[0;34m\u001b[0m\u001b[0m\n\u001b[0m\u001b[1;32m   1101\u001b[0m               \u001b[0;32mif\u001b[0m \u001b[0mdata_handler\u001b[0m\u001b[0;34m.\u001b[0m\u001b[0mshould_sync\u001b[0m\u001b[0;34m:\u001b[0m\u001b[0;34m\u001b[0m\u001b[0;34m\u001b[0m\u001b[0m\n\u001b[1;32m   1102\u001b[0m                 \u001b[0mcontext\u001b[0m\u001b[0;34m.\u001b[0m\u001b[0masync_wait\u001b[0m\u001b[0;34m(\u001b[0m\u001b[0;34m)\u001b[0m\u001b[0;34m\u001b[0m\u001b[0;34m\u001b[0m\u001b[0m\n",
            "\u001b[0;32m/usr/local/lib/python3.7/dist-packages/tensorflow/python/eager/def_function.py\u001b[0m in \u001b[0;36m__call__\u001b[0;34m(self, *args, **kwds)\u001b[0m\n\u001b[1;32m    826\u001b[0m     \u001b[0mtracing_count\u001b[0m \u001b[0;34m=\u001b[0m \u001b[0mself\u001b[0m\u001b[0;34m.\u001b[0m\u001b[0mexperimental_get_tracing_count\u001b[0m\u001b[0;34m(\u001b[0m\u001b[0;34m)\u001b[0m\u001b[0;34m\u001b[0m\u001b[0;34m\u001b[0m\u001b[0m\n\u001b[1;32m    827\u001b[0m     \u001b[0;32mwith\u001b[0m \u001b[0mtrace\u001b[0m\u001b[0;34m.\u001b[0m\u001b[0mTrace\u001b[0m\u001b[0;34m(\u001b[0m\u001b[0mself\u001b[0m\u001b[0;34m.\u001b[0m\u001b[0m_name\u001b[0m\u001b[0;34m)\u001b[0m \u001b[0;32mas\u001b[0m \u001b[0mtm\u001b[0m\u001b[0;34m:\u001b[0m\u001b[0;34m\u001b[0m\u001b[0;34m\u001b[0m\u001b[0m\n\u001b[0;32m--> 828\u001b[0;31m       \u001b[0mresult\u001b[0m \u001b[0;34m=\u001b[0m \u001b[0mself\u001b[0m\u001b[0;34m.\u001b[0m\u001b[0m_call\u001b[0m\u001b[0;34m(\u001b[0m\u001b[0;34m*\u001b[0m\u001b[0margs\u001b[0m\u001b[0;34m,\u001b[0m \u001b[0;34m**\u001b[0m\u001b[0mkwds\u001b[0m\u001b[0;34m)\u001b[0m\u001b[0;34m\u001b[0m\u001b[0;34m\u001b[0m\u001b[0m\n\u001b[0m\u001b[1;32m    829\u001b[0m       \u001b[0mcompiler\u001b[0m \u001b[0;34m=\u001b[0m \u001b[0;34m\"xla\"\u001b[0m \u001b[0;32mif\u001b[0m \u001b[0mself\u001b[0m\u001b[0;34m.\u001b[0m\u001b[0m_experimental_compile\u001b[0m \u001b[0;32melse\u001b[0m \u001b[0;34m\"nonXla\"\u001b[0m\u001b[0;34m\u001b[0m\u001b[0;34m\u001b[0m\u001b[0m\n\u001b[1;32m    830\u001b[0m       \u001b[0mnew_tracing_count\u001b[0m \u001b[0;34m=\u001b[0m \u001b[0mself\u001b[0m\u001b[0;34m.\u001b[0m\u001b[0mexperimental_get_tracing_count\u001b[0m\u001b[0;34m(\u001b[0m\u001b[0;34m)\u001b[0m\u001b[0;34m\u001b[0m\u001b[0;34m\u001b[0m\u001b[0m\n",
            "\u001b[0;32m/usr/local/lib/python3.7/dist-packages/tensorflow/python/eager/def_function.py\u001b[0m in \u001b[0;36m_call\u001b[0;34m(self, *args, **kwds)\u001b[0m\n\u001b[1;32m    860\u001b[0m       \u001b[0;31m# In this case we have not created variables on the first call. So we can\u001b[0m\u001b[0;34m\u001b[0m\u001b[0;34m\u001b[0m\u001b[0;34m\u001b[0m\u001b[0m\n\u001b[1;32m    861\u001b[0m       \u001b[0;31m# run the first trace but we should fail if variables are created.\u001b[0m\u001b[0;34m\u001b[0m\u001b[0;34m\u001b[0m\u001b[0;34m\u001b[0m\u001b[0m\n\u001b[0;32m--> 862\u001b[0;31m       \u001b[0mresults\u001b[0m \u001b[0;34m=\u001b[0m \u001b[0mself\u001b[0m\u001b[0;34m.\u001b[0m\u001b[0m_stateful_fn\u001b[0m\u001b[0;34m(\u001b[0m\u001b[0;34m*\u001b[0m\u001b[0margs\u001b[0m\u001b[0;34m,\u001b[0m \u001b[0;34m**\u001b[0m\u001b[0mkwds\u001b[0m\u001b[0;34m)\u001b[0m\u001b[0;34m\u001b[0m\u001b[0;34m\u001b[0m\u001b[0m\n\u001b[0m\u001b[1;32m    863\u001b[0m       \u001b[0;32mif\u001b[0m \u001b[0mself\u001b[0m\u001b[0;34m.\u001b[0m\u001b[0m_created_variables\u001b[0m\u001b[0;34m:\u001b[0m\u001b[0;34m\u001b[0m\u001b[0;34m\u001b[0m\u001b[0m\n\u001b[1;32m    864\u001b[0m         raise ValueError(\"Creating variables on a non-first call to a function\"\n",
            "\u001b[0;32m/usr/local/lib/python3.7/dist-packages/tensorflow/python/eager/function.py\u001b[0m in \u001b[0;36m__call__\u001b[0;34m(self, *args, **kwargs)\u001b[0m\n\u001b[1;32m   2941\u001b[0m        filtered_flat_args) = self._maybe_define_function(args, kwargs)\n\u001b[1;32m   2942\u001b[0m     return graph_function._call_flat(\n\u001b[0;32m-> 2943\u001b[0;31m         filtered_flat_args, captured_inputs=graph_function.captured_inputs)  # pylint: disable=protected-access\n\u001b[0m\u001b[1;32m   2944\u001b[0m \u001b[0;34m\u001b[0m\u001b[0m\n\u001b[1;32m   2945\u001b[0m   \u001b[0;34m@\u001b[0m\u001b[0mproperty\u001b[0m\u001b[0;34m\u001b[0m\u001b[0;34m\u001b[0m\u001b[0m\n",
            "\u001b[0;32m/usr/local/lib/python3.7/dist-packages/tensorflow/python/eager/function.py\u001b[0m in \u001b[0;36m_call_flat\u001b[0;34m(self, args, captured_inputs, cancellation_manager)\u001b[0m\n\u001b[1;32m   1917\u001b[0m       \u001b[0;31m# No tape is watching; skip to running the function.\u001b[0m\u001b[0;34m\u001b[0m\u001b[0;34m\u001b[0m\u001b[0;34m\u001b[0m\u001b[0m\n\u001b[1;32m   1918\u001b[0m       return self._build_call_outputs(self._inference_function.call(\n\u001b[0;32m-> 1919\u001b[0;31m           ctx, args, cancellation_manager=cancellation_manager))\n\u001b[0m\u001b[1;32m   1920\u001b[0m     forward_backward = self._select_forward_and_backward_functions(\n\u001b[1;32m   1921\u001b[0m         \u001b[0margs\u001b[0m\u001b[0;34m,\u001b[0m\u001b[0;34m\u001b[0m\u001b[0;34m\u001b[0m\u001b[0m\n",
            "\u001b[0;32m/usr/local/lib/python3.7/dist-packages/tensorflow/python/eager/function.py\u001b[0m in \u001b[0;36mcall\u001b[0;34m(self, ctx, args, cancellation_manager)\u001b[0m\n\u001b[1;32m    558\u001b[0m               \u001b[0minputs\u001b[0m\u001b[0;34m=\u001b[0m\u001b[0margs\u001b[0m\u001b[0;34m,\u001b[0m\u001b[0;34m\u001b[0m\u001b[0;34m\u001b[0m\u001b[0m\n\u001b[1;32m    559\u001b[0m               \u001b[0mattrs\u001b[0m\u001b[0;34m=\u001b[0m\u001b[0mattrs\u001b[0m\u001b[0;34m,\u001b[0m\u001b[0;34m\u001b[0m\u001b[0;34m\u001b[0m\u001b[0m\n\u001b[0;32m--> 560\u001b[0;31m               ctx=ctx)\n\u001b[0m\u001b[1;32m    561\u001b[0m         \u001b[0;32melse\u001b[0m\u001b[0;34m:\u001b[0m\u001b[0;34m\u001b[0m\u001b[0;34m\u001b[0m\u001b[0m\n\u001b[1;32m    562\u001b[0m           outputs = execute.execute_with_cancellation(\n",
            "\u001b[0;32m/usr/local/lib/python3.7/dist-packages/tensorflow/python/eager/execute.py\u001b[0m in \u001b[0;36mquick_execute\u001b[0;34m(op_name, num_outputs, inputs, attrs, ctx, name)\u001b[0m\n\u001b[1;32m     58\u001b[0m     \u001b[0mctx\u001b[0m\u001b[0;34m.\u001b[0m\u001b[0mensure_initialized\u001b[0m\u001b[0;34m(\u001b[0m\u001b[0;34m)\u001b[0m\u001b[0;34m\u001b[0m\u001b[0;34m\u001b[0m\u001b[0m\n\u001b[1;32m     59\u001b[0m     tensors = pywrap_tfe.TFE_Py_Execute(ctx._handle, device_name, op_name,\n\u001b[0;32m---> 60\u001b[0;31m                                         inputs, attrs, num_outputs)\n\u001b[0m\u001b[1;32m     61\u001b[0m   \u001b[0;32mexcept\u001b[0m \u001b[0mcore\u001b[0m\u001b[0;34m.\u001b[0m\u001b[0m_NotOkStatusException\u001b[0m \u001b[0;32mas\u001b[0m \u001b[0me\u001b[0m\u001b[0;34m:\u001b[0m\u001b[0;34m\u001b[0m\u001b[0;34m\u001b[0m\u001b[0m\n\u001b[1;32m     62\u001b[0m     \u001b[0;32mif\u001b[0m \u001b[0mname\u001b[0m \u001b[0;32mis\u001b[0m \u001b[0;32mnot\u001b[0m \u001b[0;32mNone\u001b[0m\u001b[0;34m:\u001b[0m\u001b[0;34m\u001b[0m\u001b[0;34m\u001b[0m\u001b[0m\n",
            "\u001b[0;31mKeyboardInterrupt\u001b[0m: "
          ]
        }
      ]
    },
    {
      "cell_type": "code",
      "metadata": {
        "colab": {
          "base_uri": "https://localhost:8080/"
        },
        "id": "uHNnnjFeVc7_",
        "outputId": "499e0dee-36d8-455e-eafa-8c01522aa686"
      },
      "source": [
        "model = keras.models.load_model('drive/ML/model/model_.h5') #load the model from file\n",
        "initial_epoch=23\n",
        "epochs=50\n",
        "\n",
        "history = model.fit(train_batches,\n",
        "                    epochs=epochs,\n",
        "                    steps_per_epoch= len(train_batches),\n",
        "                    initial_epoch = initial_epoch,\n",
        "                    callbacks = callbacks,\n",
        "                    validation_data= test_batches,\n",
        "                    validation_steps = len(test_batches)\n",
        "                    )"
      ],
      "execution_count": null,
      "outputs": [
        {
          "output_type": "stream",
          "text": [
            "Epoch 24/50\n",
            "163/163 [==============================] - 1314s 8s/step - loss: 0.6011 - accuracy: 0.7475 - val_loss: 0.6235 - val_accuracy: 0.6833\n",
            "\n",
            "Epoch 00024: val_loss improved from 0.62527 to 0.62348, saving model to drive/ML/model/model_.h5\n",
            "Epoch 25/50\n",
            "163/163 [==============================] - 1296s 8s/step - loss: 0.5987 - accuracy: 0.7506 - val_loss: 0.6220 - val_accuracy: 0.6833\n",
            "\n",
            "Epoch 00025: val_loss improved from 0.62348 to 0.62202, saving model to drive/ML/model/model_.h5\n",
            "Epoch 26/50\n",
            "163/163 [==============================] - 1288s 8s/step - loss: 0.5964 - accuracy: 0.7512 - val_loss: 0.6205 - val_accuracy: 0.6833\n",
            "\n",
            "Epoch 00026: val_loss improved from 0.62202 to 0.62053, saving model to drive/ML/model/model_.h5\n",
            "Epoch 27/50\n",
            "163/163 [==============================] - 1276s 8s/step - loss: 0.5942 - accuracy: 0.7500 - val_loss: 0.6191 - val_accuracy: 0.6833\n",
            "\n",
            "Epoch 00027: val_loss improved from 0.62053 to 0.61912, saving model to drive/ML/model/model_.h5\n",
            "Epoch 28/50\n",
            "163/163 [==============================] - 1295s 8s/step - loss: 0.5919 - accuracy: 0.7506 - val_loss: 0.6176 - val_accuracy: 0.6878\n",
            "\n",
            "Epoch 00028: val_loss improved from 0.61912 to 0.61757, saving model to drive/ML/model/model_.h5\n",
            "Epoch 29/50\n",
            "163/163 [==============================] - 1298s 8s/step - loss: 0.5897 - accuracy: 0.7525 - val_loss: 0.6161 - val_accuracy: 0.6923\n",
            "\n",
            "Epoch 00029: val_loss improved from 0.61757 to 0.61614, saving model to drive/ML/model/model_.h5\n",
            "Epoch 30/50\n",
            "163/163 [==============================] - 1287s 8s/step - loss: 0.5876 - accuracy: 0.7518 - val_loss: 0.6148 - val_accuracy: 0.6923\n",
            "\n",
            "Epoch 00030: val_loss improved from 0.61614 to 0.61475, saving model to drive/ML/model/model_.h5\n",
            "Epoch 31/50\n",
            "163/163 [==============================] - 1291s 8s/step - loss: 0.5856 - accuracy: 0.7494 - val_loss: 0.6135 - val_accuracy: 0.6923\n",
            "\n",
            "Epoch 00031: val_loss improved from 0.61475 to 0.61345, saving model to drive/ML/model/model_.h5\n",
            "Epoch 32/50\n",
            "163/163 [==============================] - 1285s 8s/step - loss: 0.5835 - accuracy: 0.7512 - val_loss: 0.6122 - val_accuracy: 0.6923\n",
            "\n",
            "Epoch 00032: val_loss improved from 0.61345 to 0.61225, saving model to drive/ML/model/model_.h5\n",
            "Epoch 33/50\n",
            "163/163 [==============================] - 1278s 8s/step - loss: 0.5815 - accuracy: 0.7543 - val_loss: 0.6110 - val_accuracy: 0.6923\n",
            "\n",
            "Epoch 00033: val_loss improved from 0.61225 to 0.61100, saving model to drive/ML/model/model_.h5\n",
            "Epoch 34/50\n",
            "111/163 [===================>..........] - ETA: 5:56 - loss: 0.5815 - accuracy: 0.7550"
          ],
          "name": "stdout"
        }
      ]
    },
    {
      "cell_type": "code",
      "metadata": {
        "colab": {
          "base_uri": "https://localhost:8080/"
        },
        "id": "YvemsQiSevNW",
        "outputId": "29a83fa9-eef1-481b-c187-fd5c668a5575"
      },
      "source": [
        "model = keras.models.load_model('drive/ML/model/model_.h5') #load the model from file\n",
        "initial_epoch=33\n",
        "epochs=50\n",
        "\n",
        "history = model.fit(train_batches,\n",
        "                    epochs=epochs,\n",
        "                    steps_per_epoch= len(train_batches),\n",
        "                    initial_epoch = initial_epoch,\n",
        "                    callbacks = callbacks,\n",
        "                    validation_data= test_batches,\n",
        "                    validation_steps = len(test_batches)\n",
        "                    )"
      ],
      "execution_count": 12,
      "outputs": [
        {
          "output_type": "stream",
          "text": [
            "Epoch 34/50\n",
            "163/163 [==============================] - 1364s 8s/step - loss: 0.5796 - accuracy: 0.7512 - val_loss: 0.6097 - val_accuracy: 0.6923\n",
            "\n",
            "Epoch 00034: val_loss improved from inf to 0.60970, saving model to drive/ML/model/model_.h5\n",
            "Epoch 35/50\n",
            "163/163 [==============================] - 1239s 8s/step - loss: 0.5776 - accuracy: 0.7531 - val_loss: 0.6085 - val_accuracy: 0.6923\n",
            "\n",
            "Epoch 00035: val_loss improved from 0.60970 to 0.60847, saving model to drive/ML/model/model_.h5\n",
            "Epoch 36/50\n",
            "163/163 [==============================] - 1196s 7s/step - loss: 0.5757 - accuracy: 0.7555 - val_loss: 0.6075 - val_accuracy: 0.6968\n",
            "\n",
            "Epoch 00036: val_loss improved from 0.60847 to 0.60746, saving model to drive/ML/model/model_.h5\n",
            "Epoch 37/50\n",
            "163/163 [==============================] - 1180s 7s/step - loss: 0.5738 - accuracy: 0.7518 - val_loss: 0.6063 - val_accuracy: 0.6968\n",
            "\n",
            "Epoch 00037: val_loss improved from 0.60746 to 0.60634, saving model to drive/ML/model/model_.h5\n",
            "Epoch 38/50\n",
            "163/163 [==============================] - 1176s 7s/step - loss: 0.5720 - accuracy: 0.7543 - val_loss: 0.6053 - val_accuracy: 0.6968\n",
            "\n",
            "Epoch 00038: val_loss improved from 0.60634 to 0.60528, saving model to drive/ML/model/model_.h5\n",
            "Epoch 39/50\n",
            "163/163 [==============================] - 1189s 7s/step - loss: 0.5702 - accuracy: 0.7525 - val_loss: 0.6042 - val_accuracy: 0.6968\n",
            "\n",
            "Epoch 00039: val_loss improved from 0.60528 to 0.60421, saving model to drive/ML/model/model_.h5\n",
            "Epoch 40/50\n",
            "163/163 [==============================] - 1220s 7s/step - loss: 0.5685 - accuracy: 0.7537 - val_loss: 0.6033 - val_accuracy: 0.6968\n",
            "\n",
            "Epoch 00040: val_loss improved from 0.60421 to 0.60328, saving model to drive/ML/model/model_.h5\n",
            "Epoch 41/50\n",
            "163/163 [==============================] - 1245s 8s/step - loss: 0.5667 - accuracy: 0.7531 - val_loss: 0.6023 - val_accuracy: 0.6968\n",
            "\n",
            "Epoch 00041: val_loss improved from 0.60328 to 0.60227, saving model to drive/ML/model/model_.h5\n",
            "Epoch 42/50\n",
            "163/163 [==============================] - 1186s 7s/step - loss: 0.5650 - accuracy: 0.7531 - val_loss: 0.6012 - val_accuracy: 0.6968\n",
            "\n",
            "Epoch 00042: val_loss improved from 0.60227 to 0.60122, saving model to drive/ML/model/model_.h5\n",
            "Epoch 43/50\n",
            "163/163 [==============================] - 1207s 7s/step - loss: 0.5634 - accuracy: 0.7543 - val_loss: 0.6002 - val_accuracy: 0.6968\n",
            "\n",
            "Epoch 00043: val_loss improved from 0.60122 to 0.60021, saving model to drive/ML/model/model_.h5\n",
            "Epoch 44/50\n",
            "163/163 [==============================] - 1224s 7s/step - loss: 0.5617 - accuracy: 0.7531 - val_loss: 0.5994 - val_accuracy: 0.6968\n",
            "\n",
            "Epoch 00044: val_loss improved from 0.60021 to 0.59937, saving model to drive/ML/model/model_.h5\n",
            "Epoch 45/50\n",
            "163/163 [==============================] - 1182s 7s/step - loss: 0.5601 - accuracy: 0.7537 - val_loss: 0.5985 - val_accuracy: 0.6968\n",
            "\n",
            "Epoch 00045: val_loss improved from 0.59937 to 0.59845, saving model to drive/ML/model/model_.h5\n",
            "Epoch 46/50\n",
            "163/163 [==============================] - 1186s 7s/step - loss: 0.5585 - accuracy: 0.7537 - val_loss: 0.5975 - val_accuracy: 0.6968\n",
            "\n",
            "Epoch 00046: val_loss improved from 0.59845 to 0.59747, saving model to drive/ML/model/model_.h5\n",
            "Epoch 47/50\n",
            "163/163 [==============================] - 1168s 7s/step - loss: 0.5570 - accuracy: 0.7531 - val_loss: 0.5967 - val_accuracy: 0.6968\n",
            "\n",
            "Epoch 00047: val_loss improved from 0.59747 to 0.59670, saving model to drive/ML/model/model_.h5\n",
            "Epoch 48/50\n",
            "163/163 [==============================] - 1155s 7s/step - loss: 0.5555 - accuracy: 0.7562 - val_loss: 0.5958 - val_accuracy: 0.6968\n",
            "\n",
            "Epoch 00048: val_loss improved from 0.59670 to 0.59582, saving model to drive/ML/model/model_.h5\n",
            "Epoch 49/50\n",
            "163/163 [==============================] - 1188s 7s/step - loss: 0.5540 - accuracy: 0.7555 - val_loss: 0.5951 - val_accuracy: 0.6968\n",
            "\n",
            "Epoch 00049: val_loss improved from 0.59582 to 0.59509, saving model to drive/ML/model/model_.h5\n",
            "Epoch 50/50\n",
            "163/163 [==============================] - 1167s 7s/step - loss: 0.5525 - accuracy: 0.7568 - val_loss: 0.5943 - val_accuracy: 0.7014\n",
            "\n",
            "Epoch 00050: val_loss improved from 0.59509 to 0.59426, saving model to drive/ML/model/model_.h5\n"
          ],
          "name": "stdout"
        }
      ]
    },
    {
      "cell_type": "code",
      "metadata": {
        "colab": {
          "base_uri": "https://localhost:8080/",
          "height": 879
        },
        "id": "5wJ4pb8Ir79o",
        "outputId": "054d87de-dd4f-40ed-a993-824490d54741"
      },
      "source": [
        "acc1 = [0.7161,0.7161,0.7180,0.7284,0.7284,0.7315,0.7334,0.7334,0.7352,0.7352,0.7408,0.7358,0.7389,0.7432,0.7438]\n",
        "val_acc1 = [0.6833,0.6833,0.6878,0.6878,0.6878,0.6878,0.6878,0.6878,0.6878,0.6878,0.6833,0.6878,0.6878,0.6833,0.6833]\n",
        "\n",
        "acc2 = [0.7463,0.7457,0.7457,0.7457,0.7457,0.7494,0.7469,0.7475]\n",
        "val_acc2 = [0.6878,0.6878,0.6833,0.6878,0.6878,0.6878,0.6878,0.6833]\n",
        "\n",
        "acc3 = [0.7475, 0.7506,0.7512,0.7500,0.7506,0.7525,0.7518,0.7494,0.7512,0.7543]\n",
        "val_acc3 = [0.6833,0.6833,0.6833,0.6833,0.6878,0.6923,0.6923,0.6923,0.6923,0.6923]\n",
        "\n",
        "acc4 = history.history['accuracy']\n",
        "val_acc4 = history.history['val_accuracy']\n",
        "\n",
        "acc = np.concatenate((acc1,acc2,acc3,acc4))\n",
        "val_acc = np.concatenate((val_acc1, val_acc2,val_acc3,val_acc4))\n",
        "\n",
        "\n",
        "plt.figure(figsize=(10, 10))\n",
        "plt.plot(acc, label='Training Accuracy')\n",
        "plt.plot(val_acc, label='Testing Accuracy')\n",
        "plt.legend(loc='Upper right')\n",
        "plt.ylabel('Accuracy')\n",
        "plt.ylim([min(plt.ylim()),0.78])\n",
        "plt.xlabel('Epoch')\n",
        "plt.xlim(1,50)\n",
        "plt.title('Training and Testing Accuracy')"
      ],
      "execution_count": 16,
      "outputs": [
        {
          "output_type": "stream",
          "text": [
            "/usr/local/lib/python3.7/dist-packages/ipykernel_launcher.py:20: MatplotlibDeprecationWarning: Unrecognized location 'Upper right'. Falling back on 'best'; valid locations are\n",
            "\tbest\n",
            "\tupper right\n",
            "\tupper left\n",
            "\tlower left\n",
            "\tlower right\n",
            "\tright\n",
            "\tcenter left\n",
            "\tcenter right\n",
            "\tlower center\n",
            "\tupper center\n",
            "\tcenter\n",
            "This will raise an exception in 3.3.\n"
          ],
          "name": "stderr"
        },
        {
          "output_type": "execute_result",
          "data": {
            "text/plain": [
              "Text(0.5, 1.0, 'Training and Testing Accuracy')"
            ]
          },
          "metadata": {
            "tags": []
          },
          "execution_count": 16
        },
        {
          "output_type": "display_data",
          "data": {
            "image/png": "[encoded data removed]",
            "text/plain": [
              "<Figure size 720x720 with 1 Axes>"
            ]
          },
          "metadata": {
            "tags": [],
            "needs_background": "light"
          }
        }
      ]
    },
    {
      "cell_type": "code",
      "metadata": {
        "id": "szX4uYHlULm4"
      },
      "source": [
        "# save model \n",
        "model_path = os.path.join(SAVE_PATH, 'model_final') + '.h5'\n",
        "model.save(model_path)\n",
        "\n",
        "# save model WEIGHT\n",
        "weight_path = os.path.join(SAVE_PATH, 'model_weights') + '.h5'\n",
        "model.save_weights(weight_path)"
      ],
      "execution_count": 17,
      "outputs": []
    },
    {
      "cell_type": "code",
      "metadata": {
        "id": "pKgDdlVSw6Cf"
      },
      "source": [
        "loaded_model =  keras.models.load_model('drive/ML/model/model_final.h5')\n",
        "loaded_model.load_weights(\"drive/ML/model/model_weights.h5\")\n",
        "loaded_model.compile(loss='binary_crossentropy', optimizer = Adam(learning_rate=0.001), metrics=['accuracy'])\n",
        "score = loaded_model.evaluate(test_batches, verbose=0)"
      ],
      "execution_count": 11,
      "outputs": []
    },
    {
      "cell_type": "code",
      "metadata": {
        "colab": {
          "base_uri": "https://localhost:8080/"
        },
        "id": "foFsSog4xzBg",
        "outputId": "151d864f-7871-414d-8b19-2878ecf8a3e9"
      },
      "source": [
        "print(\"%s in testing data: %.2f%%\" % (loaded_model.metrics_names[1], score[1]*100))"
      ],
      "execution_count": 12,
      "outputs": [
        {
          "output_type": "stream",
          "text": [
            "accuracy in testing data: 70.14%\n"
          ],
          "name": "stdout"
        }
      ]
    },
    {
      "cell_type": "code",
      "metadata": {
        "colab": {
          "base_uri": "https://localhost:8080/"
        },
        "id": "HI4rVBZly1Ip",
        "outputId": "52e6613b-024e-4aff-9f1e-eefb48a7cdef"
      },
      "source": [
        "print('Total number of parameter :',loaded_model.count_params())"
      ],
      "execution_count": 13,
      "outputs": [
        {
          "output_type": "stream",
          "text": [
            "Total number of parameter : 143669242\n"
          ],
          "name": "stdout"
        }
      ]
    },
    {
      "cell_type": "code",
      "metadata": {
        "id": "odJtuRaemF2o"
      },
      "source": [
        ""
      ],
      "execution_count": null,
      "outputs": []
    }
  ]
}