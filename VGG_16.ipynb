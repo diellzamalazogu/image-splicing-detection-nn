{
  "nbformat": 4,
  "nbformat_minor": 0,
  "metadata": {
    "colab": {
      "name": "Project.ipynb",
      "provenance": [],
      "collapsed_sections": []
    },
    "kernelspec": {
      "name": "python3",
      "display_name": "Python 3"
    },
    "language_info": {
      "name": "python"
    },
    "accelerator": "GPU"
  },
  "cells": [
    {
      "cell_type": "code",
      "metadata": {
        "id": "psm9joy9kIvN",
        "colab": {
          "base_uri": "https://localhost:8080/"
        },
        "outputId": "aa591d94-149b-4fbd-a9f6-ce3aa42a630e"
      },
      "source": [
        "#Mount Google Drive\n",
        "!apt-get install -y -qq software-properties-common python-software-properties module-init-tools\n",
        "!add-apt-repository -y ppa:alessandro-strada/ppa 2>&1 > /dev/null\n",
        "!apt-get update -qq 2>&1 > /dev/null\n",
        "!apt-get -y install -qq google-drive-ocamlfuse fuse\n",
        "from google.colab import auth\n",
        "auth.authenticate_user()\n",
        "from oauth2client.client import GoogleCredentials\n",
        "creds = GoogleCredentials.get_application_default()\n",
        "import getpass\n",
        "!google-drive-ocamlfuse -headless -id={creds.client_id} -secret={creds.client_secret} < /dev/null 2>&1 | grep URL\n",
        "vcode = getpass.getpass()\n",
        "!echo {vcode} | google-drive-ocamlfuse -headless -id={creds.client_id} -secret={creds.client_secret}\n",
        "!mkdir -p drive\n",
        "!google-drive-ocamlfuse drive\n",
        "\n",
        "#!ls drive"
      ],
      "execution_count": null,
      "outputs": [
        {
          "output_type": "stream",
          "text": [
            "E: Package 'python-software-properties' has no installation candidate\n",
            "Selecting previously unselected package google-drive-ocamlfuse.\n",
            "(Reading database ... 160690 files and directories currently installed.)\n",
            "Preparing to unpack .../google-drive-ocamlfuse_0.7.26-0ubuntu1~ubuntu18.04.1_amd64.deb ...\n",
            "Unpacking google-drive-ocamlfuse (0.7.26-0ubuntu1~ubuntu18.04.1) ...\n",
            "Setting up google-drive-ocamlfuse (0.7.26-0ubuntu1~ubuntu18.04.1) ...\n",
            "Processing triggers for man-db (2.8.3-2ubuntu0.1) ...\n",
            "Please, open the following URL in a web browser: https://accounts.google.com/o/oauth2/auth?client_id=32555940559.apps.googleusercontent.com&redirect_uri=urn%3Aietf%3Awg%3Aoauth%3A2.0%3Aoob&scope=https%3A%2F%2Fwww.googleapis.com%2Fauth%2Fdrive&response_type=code&access_type=offline&approval_prompt=force\n",
            "··········\n",
            "Please, open the following URL in a web browser: https://accounts.google.com/o/oauth2/auth?client_id=32555940559.apps.googleusercontent.com&redirect_uri=urn%3Aietf%3Awg%3Aoauth%3A2.0%3Aoob&scope=https%3A%2F%2Fwww.googleapis.com%2Fauth%2Fdrive&response_type=code&access_type=offline&approval_prompt=force\n",
            "Please enter the verification code: Access token retrieved correctly.\n"
          ],
          "name": "stdout"
        }
      ]
    },
    {
      "cell_type": "code",
      "metadata": {
        "id": "K-3WcmbXs8EX"
      },
      "source": [
        "import keras \n",
        "import numpy as np \n",
        "from keras.applications.vgg16 import VGG16\n",
        "from keras.applications.resnet50 import ResNet50\n",
        "from keras.applications.vgg19 import VGG19\n",
        "from keras.preprocessing.image import load_img\n",
        "from keras.callbacks import ModelCheckpoint\n",
        "import matplotlib.pyplot as plt\n",
        "import itertools\n",
        "from keras.models import Sequential\n",
        "from keras.optimizers import Adam\n",
        "from keras.preprocessing.image import ImageDataGenerator\n",
        "import tensorflow as tf\n",
        "from keras.layers import Dense, Flatten, Dropout\n",
        "from tensorflow.python.client import device_lib\n",
        "from keras.models import model_from_json\n",
        "from keras.models import load_model\n",
        "from sklearn.metrics import confusion_matrix"
      ],
      "execution_count": null,
      "outputs": []
    },
    {
      "cell_type": "code",
      "metadata": {
        "id": "MRoIeJzmtgdr"
      },
      "source": [
        "#Specify path to dataset\n",
        "train_path = 'drive/ML/alpha/dataset/train'\n",
        "test_path = 'drive/ML/alpha/dataset/test'"
      ],
      "execution_count": null,
      "outputs": []
    },
    {
      "cell_type": "code",
      "metadata": {
        "id": "5hdT7ZDotxP7",
        "colab": {
          "base_uri": "https://localhost:8080/"
        },
        "outputId": "d8f27c52-6c95-4886-c4b8-c754347f59a2"
      },
      "source": [
        "#Import data into test, train and validation and pre-process by up-sampling\n",
        "train_batches = ImageDataGenerator().flow_from_directory(train_path, target_size=(224,224), classes=['original', 'spliced'], batch_size=10)\n",
        "test_batches =  ImageDataGenerator().flow_from_directory(test_path , target_size=(224,224), classes=['original', 'spliced'], batch_size=4)\n",
        "#valid_batches = ImageDataGenerator().flow_from_directory(valid_path, target_size=(224,224), classes=['original', 'spliced'], batch_size=4)\n"
      ],
      "execution_count": null,
      "outputs": [
        {
          "output_type": "stream",
          "text": [
            "Found 1624 images belonging to 2 classes.\n",
            "Found 221 images belonging to 2 classes.\n",
            "Found 11 images belonging to 2 classes.\n"
          ],
          "name": "stdout"
        }
      ]
    },
    {
      "cell_type": "code",
      "metadata": {
        "id": "tEaZfeoAd2ak",
        "colab": {
          "base_uri": "https://localhost:8080/"
        },
        "outputId": "8330b82a-fbfc-4277-bdc0-616bc7cf1055"
      },
      "source": [
        "#ResNet 50 implementation\n",
        "from keras.models import Model\n",
        "from keras.layers import Conv2D, MaxPooling2D, BatchNormalization\n",
        "import os\n",
        "import warnings\n",
        "import numpy as np\n",
        "from tensorflow.keras.layers import Input, Activation, Conv2D, Dense, Dropout, BatchNormalization, ReLU, DepthwiseConv2D, GlobalAveragePooling2D, GlobalMaxPooling2D, Add\n",
        "from tensorflow.keras.models import Model\n",
        "from keras import regularizers\n",
        "height = 224\n",
        "width = 224\n",
        "channel = 3\n",
        "model_resnet = ResNet50(include_top=False, weights=\"imagenet\", input_shape=(height, width, channel))\n",
        "conv1 = Conv2D(32, (3,3), activation = 'relu')(model_resnet.output)\n",
        "pool1 = MaxPooling2D(2,2)(conv1)\n",
        "bn1 = BatchNormalization(axis=channel)(pool1)\n",
        "drop1 = Dropout(0.2)(bn1)\n",
        "flatten1 = Flatten()(drop1)\n",
        "fc2 = Dense(2, activation='softmax')(flatten1)\n",
        "INI = Model(inputs=model_resnet.input, outputs=fc2)"
      ],
      "execution_count": null,
      "outputs": [
        {
          "output_type": "stream",
          "text": [
            "Downloading data from https://storage.googleapis.com/tensorflow/keras-applications/resnet/resnet50_weights_tf_dim_ordering_tf_kernels_notop.h5\n",
            "94773248/94765736 [==============================] - 1s 0us/step\n"
          ],
          "name": "stdout"
        }
      ]
    },
    {
      "cell_type": "code",
      "metadata": {
        "id": "qvr9li_qs_DU",
        "colab": {
          "base_uri": "https://localhost:8080/"
        },
        "outputId": "89f28b42-5914-49a9-86c2-54aab03ecc0e"
      },
      "source": [
        "#VGG 16 Model Initlization\n",
        "INI_MODEL = VGG16()\n",
        "#INI_MODEL = VGG19()\n",
        "\n",
        "#INI_MODEL.summary()\n",
        "#INI_MODEL.type()\n",
        "NEW_MODEL = Sequential()\n",
        "for layer in INI_MODEL.layers:\n",
        "   NEW_MODEL.add(layer)\n",
        "\n",
        "NEW_MODEL.layers.pop()\n",
        "#NEW_MODEL.summary()\n",
        "for layer in NEW_MODEL.layers:\n",
        "  layer.trainable = False\n",
        "NEW_MODEL.add(Dense(2, activation='softmax'))\n",
        "NEW_MODEL.compile(optimizer='adam', loss = 'binary_crossentropy', metrics = ['accuracy'])"
      ],
      "execution_count": null,
      "outputs": [
        {
          "output_type": "stream",
          "text": [
            "Downloading data from https://storage.googleapis.com/tensorflow/keras-applications/vgg16/vgg16_weights_tf_dim_ordering_tf_kernels.h5\n",
            "553467904/553467096 [==============================] - 3s 0us/step\n"
          ],
          "name": "stdout"
        }
      ]
    },
    {
      "cell_type": "code",
      "metadata": {
        "id": "SNxkzqPJt8NT"
      },
      "source": [
        "#Saving weights and checkpoint\n",
        "filepath=\"drive/ML/weights.best.hdf5\"\n",
        "checkpoint = ModelCheckpoint(filepath, monitor='val_accuracy', verbose=1, save_best_only=True, mode='max')\n",
        "callbacks_list = [checkpoint]"
      ],
      "execution_count": null,
      "outputs": []
    },
    {
      "cell_type": "code",
      "metadata": {
        "id": "RXTpCADUuHyE",
        "colab": {
          "base_uri": "https://localhost:8080/"
        },
        "outputId": "a307bfac-bb44-490d-d0b2-334a1995b949"
      },
      "source": [
        "#Initialize GPU for training the model faster\n",
        "!ln -sf /opt/bin/nvidia-smi /usr/bin/nvidia-smi\n",
        "!pip install gputil\n",
        "!pip install psutil\n",
        "!pip install humanize\n",
        "import psutil\n",
        "import humanize\n",
        "import os\n",
        "import GPUtil as GPU\n",
        "GPUs = GPU.getGPUs()\n",
        "gpu = GPUs[0]\n",
        "def printm():\n",
        " process = psutil.Process(os.getpid())\n",
        " print(\"Gen RAM Free: \" + humanize.naturalsize( psutil.virtual_memory().available ), \" | Proc size: \" + humanize.naturalsize( process.memory_info().rss))\n",
        " print(\"GPU RAM Free: {0:.0f}MB | Used: {1:.0f}MB | Util {2:3.0f}% | Total {3:.0f}MB\".format(gpu.memoryFree, gpu.memoryUsed, gpu.memoryUtil*100, gpu.memoryTotal))\n",
        "printm()"
      ],
      "execution_count": null,
      "outputs": [
        {
          "output_type": "stream",
          "text": [
            "Requirement already satisfied: gputil in /usr/local/lib/python3.7/dist-packages (1.4.0)\n",
            "Requirement already satisfied: psutil in /usr/local/lib/python3.7/dist-packages (5.4.8)\n",
            "Requirement already satisfied: humanize in /usr/local/lib/python3.7/dist-packages (0.5.1)\n",
            "Gen RAM Free: 11.1 GB  | Proc size: 4.6 GB\n",
            "GPU RAM Free: 5957MB | Used: 9152MB | Util  61% | Total 15109MB\n"
          ],
          "name": "stdout"
        }
      ]
    },
    {
      "cell_type": "code",
      "metadata": {
        "id": "iXsqb7ZH2f5G"
      },
      "source": [
        "#Define functions to plot confusion matrix and accuracy \n",
        "def plot_confusion_matrix(cm, classes,\n",
        "                          normalize=False,\n",
        "                          title='Confusion matrix',\n",
        "                          cmap=plt.cm.Blues):\n",
        "    if normalize:\n",
        "        cm = cm.astype('float') / cm.sum(axis=1)[:, np.newaxis]\n",
        "        print(\"Normalized confusion matrix\")\n",
        "    else:\n",
        "        print('Confusion matrix, without normalization')\n",
        "\n",
        "    print(cm)\n",
        "\n",
        "    plt.imshow(cm, interpolation='nearest', cmap=cmap)\n",
        "    plt.title(title)\n",
        "    plt.colorbar()\n",
        "    tick_marks = np.arange(len(classes))\n",
        "    plt.xticks(tick_marks, classes, rotation=45)\n",
        "    plt.yticks(tick_marks, classes)\n",
        "\n",
        "    fmt = '.2f' if normalize else 'd'\n",
        "    thresh = cm.max() / 2.\n",
        "    for i, j in itertools.product(range(cm.shape[0]), range(cm.shape[1])):\n",
        "        plt.text(j, i, format(cm[i, j], fmt),\n",
        "                 horizontalalignment=\"center\",\n",
        "                 color=\"white\" if cm[i, j] > thresh else \"black\")\n",
        "\n",
        "    plt.tight_layout()\n",
        "    plt.ylabel('True label')\n",
        "    plt.xlabel('Predicted label')\n",
        "\n",
        "def plot_training_curves(history):\n",
        "    acc     = history.history['accuracy']\n",
        "    val_acc = history.history['val_accuracy']\n",
        "\n",
        "    loss     = history.history['loss']\n",
        "    val_loss = history.history['val_loss']\n",
        "\n",
        "    #Plotting accuracy\n",
        "    plt.figure(figsize=(8, 8))\n",
        "    plt.subplot(2, 1, 1)\n",
        "    plt.plot(acc, label='Training Accuracy')\n",
        "    plt.plot(val_acc, label='Validation Accuracy')\n",
        "    plt.legend(loc='lower right')\n",
        "    plt.ylabel('Accuracy')\n",
        "    plt.ylim([min(plt.ylim()), 1])\n",
        "    plt.title('Training and Validation Accuracy')\n",
        "\n",
        "    #Plotting Loss\n",
        "    plt.subplot(2, 1, 2)\n",
        "    plt.plot(loss, label='Training Loss')\n",
        "    plt.plot(val_loss, label='Validation Loss')\n",
        "    plt.legend(loc='upper right')\n",
        "    plt.ylabel('Cross Entropy')\n",
        "    plt.ylim([0, 2.0])\n",
        "    plt.title('Training and Validation Loss')\n",
        "    plt.xlabel('epoch')\n",
        "    plt.show()"
      ],
      "execution_count": null,
      "outputs": []
    },
    {
      "cell_type": "code",
      "metadata": {
        "id": "APbC5bkXfq9Q"
      },
      "source": [
        "#Fitting the model \n",
        "NEW_MODEL.compile(optimizer='adam', loss = 'binary_crossentropy', metrics = ['accuracy'])\n",
        "history = NEW_MODEL.fit(train_batches, steps_per_epoch=len(train_batches), validation_data=test_batches, validation_steps=len(test_batches), epochs=100, callbacks=callbacks_list, verbose=2)"
      ],
      "execution_count": null,
      "outputs": []
    },
    {
      "cell_type": "code",
      "metadata": {
        "id": "QufeNEzC2Sv6"
      },
      "source": [
        "#Saving the model\n",
        "#NEW_MODEL.load_weights(\"drive/ML/weights.hdf5\")\n",
        "model_json = NEW_MODEL.to_json()\n",
        "\n",
        "\n",
        "with open(\"drive/ML/CNNImageSplicingDetectorModel.json\", \"w\") as json_file:\n",
        "    json_file.write(model_json)\n",
        "\n",
        "# serialize weights to HDF5\n",
        "NEW_MODEL.save_weights(\"drive/ML/CNNImageSplicingDetectorModelWeights.h5\")"
      ],
      "execution_count": null,
      "outputs": []
    },
    {
      "cell_type": "code",
      "metadata": {
        "id": "UiZn1jAX2kWS",
        "colab": {
          "base_uri": "https://localhost:8080/",
          "height": 1000
        },
        "outputId": "b6078022-54ba-492a-f12d-cc68c26ada25"
      },
      "source": [
        "#Accuracy plot and Model summary\n",
        "plot_training_curves(history)\n",
        "NEW_MODEL.summary()"
      ],
      "execution_count": null,
      "outputs": [
        {
          "output_type": "display_data",
          "data": {
            "image/png": "[encoded data removed]",
            "text/plain": [
              "<Figure size 576x576 with 2 Axes>"
            ]
          },
          "metadata": {
            "tags": [],
            "needs_background": "light"
          }
        },
        {
          "output_type": "stream",
          "text": [
            "Model: \"sequential\"\n",
            "_________________________________________________________________\n",
            "Layer (type)                 Output Shape              Param #   \n",
            "=================================================================\n",
            "block1_conv1 (Conv2D)        (None, 224, 224, 64)      1792      \n",
            "_________________________________________________________________\n",
            "block1_conv2 (Conv2D)        (None, 224, 224, 64)      36928     \n",
            "_________________________________________________________________\n",
            "block1_pool (MaxPooling2D)   (None, 112, 112, 64)      0         \n",
            "_________________________________________________________________\n",
            "block2_conv1 (Conv2D)        (None, 112, 112, 128)     73856     \n",
            "_________________________________________________________________\n",
            "block2_conv2 (Conv2D)        (None, 112, 112, 128)     147584    \n",
            "_________________________________________________________________\n",
            "block2_pool (MaxPooling2D)   (None, 56, 56, 128)       0         \n",
            "_________________________________________________________________\n",
            "block3_conv1 (Conv2D)        (None, 56, 56, 256)       295168    \n",
            "_________________________________________________________________\n",
            "block3_conv2 (Conv2D)        (None, 56, 56, 256)       590080    \n",
            "_________________________________________________________________\n",
            "block3_conv3 (Conv2D)        (None, 56, 56, 256)       590080    \n",
            "_________________________________________________________________\n",
            "block3_pool (MaxPooling2D)   (None, 28, 28, 256)       0         \n",
            "_________________________________________________________________\n",
            "block4_conv1 (Conv2D)        (None, 28, 28, 512)       1180160   \n",
            "_________________________________________________________________\n",
            "block4_conv2 (Conv2D)        (None, 28, 28, 512)       2359808   \n",
            "_________________________________________________________________\n",
            "block4_conv3 (Conv2D)        (None, 28, 28, 512)       2359808   \n",
            "_________________________________________________________________\n",
            "block4_pool (MaxPooling2D)   (None, 14, 14, 512)       0         \n",
            "_________________________________________________________________\n",
            "block5_conv1 (Conv2D)        (None, 14, 14, 512)       2359808   \n",
            "_________________________________________________________________\n",
            "block5_conv2 (Conv2D)        (None, 14, 14, 512)       2359808   \n",
            "_________________________________________________________________\n",
            "block5_conv3 (Conv2D)        (None, 14, 14, 512)       2359808   \n",
            "_________________________________________________________________\n",
            "block5_pool (MaxPooling2D)   (None, 7, 7, 512)         0         \n",
            "_________________________________________________________________\n",
            "flatten (Flatten)            (None, 25088)             0         \n",
            "_________________________________________________________________\n",
            "fc1 (Dense)                  (None, 4096)              102764544 \n",
            "_________________________________________________________________\n",
            "fc2 (Dense)                  (None, 4096)              16781312  \n",
            "_________________________________________________________________\n",
            "predictions (Dense)          (None, 1000)              4097000   \n",
            "_________________________________________________________________\n",
            "dense (Dense)                (None, 2)                 2002      \n",
            "=================================================================\n",
            "Total params: 138,359,546\n",
            "Trainable params: 2,002\n",
            "Non-trainable params: 138,357,544\n",
            "_________________________________________________________________\n"
          ],
          "name": "stdout"
        }
      ]
    },
    {
      "cell_type": "code",
      "metadata": {
        "id": "P57cecTFfNXX",
        "colab": {
          "base_uri": "https://localhost:8080/"
        },
        "outputId": "b1443ad9-062e-48cc-dcb8-e04a6d6f48d4"
      },
      "source": [
        "#Model evaluation on Test data\n",
        "NEW_MODEL.compile(optimizer='adam', loss = 'binary_crossentropy', metrics = ['accuracy'])\n",
        "print(\"The model loss and accruacy is\")\n",
        "NEW_MODEL.evaluate(x=test_batches)"
      ],
      "execution_count": null,
      "outputs": [
        {
          "output_type": "stream",
          "text": [
            "The model loss and accruacy is\n",
            "56/56 [==============================] - 118s 2s/step - loss: 0.5904 - accuracy: 0.6768\n"
          ],
          "name": "stdout"
        },
        {
          "output_type": "execute_result",
          "data": {
            "text/plain": [
              "[0.5819605588912964, 0.7104072570800781]"
            ]
          },
          "metadata": {
            "tags": []
          },
          "execution_count": 9
        }
      ]
    },
    {
      "cell_type": "code",
      "metadata": {
        "colab": {
          "base_uri": "https://localhost:8080/"
        },
        "id": "GzKads4DgGRk",
        "outputId": "8f205caf-0895-4d69-911e-3339ada4e632"
      },
      "source": [
        "NEW_MODEL.evaluate(x=train_batches)"
      ],
      "execution_count": null,
      "outputs": [
        {
          "output_type": "stream",
          "text": [
            "163/163 [==============================] - 618s 4s/step - loss: 0.5025 - accuracy: 0.7913\n"
          ],
          "name": "stdout"
        },
        {
          "output_type": "execute_result",
          "data": {
            "text/plain": [
              "[0.5025094151496887, 0.7912561297416687]"
            ]
          },
          "metadata": {
            "tags": []
          },
          "execution_count": 11
        }
      ]
    },
    {
      "cell_type": "code",
      "metadata": {
        "colab": {
          "base_uri": "https://localhost:8080/"
        },
        "id": "wXrpmKtOleSU",
        "outputId": "355a39b0-ce0d-48c6-e059-b29b7f10b170"
      },
      "source": [
        "test_imgs, test_labels = next(test_batches)\n",
        "test_labels = test_labels[:,0]\n",
        "test_labels\n",
        "pred = NEW_MODEL.predict(test_batches, steps=1, verbose=1)\n",
        "print(pred)\n",
        "print (test_labels)\n",
        "print (np.round(pred[:,0]))\n",
        "\n",
        "CONF_MAT =  confusion_matrix(test_labels, np.round(pred[:,0]))\n",
        "CONF_labels = ['original', 'spliced']\n",
        "plot_confusion_matrix(CONF_MAT, CONF_labels, title='Confusion matrix')"
      ],
      "execution_count": null,
      "outputs": [
        {
          "output_type": "stream",
          "text": [
            "1/1 [==============================] - 0s 76ms/step\n",
            "[[0.6863638  0.3136362 ]\n",
            " [0.91405636 0.08594368]\n",
            " [0.8592204  0.14077961]\n",
            " [0.26860523 0.73139477]]\n",
            "[1. 1. 0. 0.]\n",
            "[1. 1. 1. 0.]\n",
            "Confusion matrix, without normalization\n",
            "[[1 1]\n",
            " [0 2]]\n"
          ],
          "name": "stdout"
        },
        {
          "output_type": "display_data",
          "data": {
            "image/png": "[encoded data removed]",
            "text/plain": [
              "<Figure size 432x288 with 2 Axes>"
            ]
          },
          "metadata": {
            "tags": [],
            "needs_background": "light"
          }
        }
      ]
    }
  ]
}